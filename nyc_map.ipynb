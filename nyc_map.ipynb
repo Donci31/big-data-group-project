{
 "cells": [
  {
   "cell_type": "code",
   "execution_count": null,
   "id": "7d0b78fe-f7f8-4f73-b97e-9607a893037f",
   "metadata": {},
   "outputs": [],
   "source": [
    "import pandas as pd\n",
    "import numpy as np\n",
    "import geopandas as gpd\n",
    "import matplotlib.pyplot as plt\n",
    "\n",
    "%matplotlib inline"
   ]
  },
  {
   "cell_type": "code",
   "execution_count": null,
   "id": "21ff67c7-e105-41a7-aed0-c9ec317a4eec",
   "metadata": {},
   "outputs": [],
   "source": [
    "%run data_filter.ipynb"
   ]
  },
  {
   "cell_type": "markdown",
   "id": "285a9325-9992-408a-9ba6-5e3c6e5ab4ae",
   "metadata": {},
   "source": [
    "### Földrajzi adatok beolvasása"
   ]
  },
  {
   "cell_type": "code",
   "execution_count": null,
   "id": "4fccb8a7-2029-4e8c-ac9f-7be5841b674a",
   "metadata": {},
   "outputs": [],
   "source": [
    "data = (\n",
    "    gpd\n",
    "    .read_file(\n",
    "        filename='taxi_zones/taxi_zones.shp',\n",
    "        ignore_fields=['Shape_Leng', 'Shape_Area', 'zone', 'LocationID', 'borough']\n",
    "    )\n",
    "    .set_index('OBJECTID')\n",
    "    .rename_axis('LocationID')\n",
    ")\n",
    "\n",
    "data[['PUFrequency', 'DOFrequency']] = 0."
   ]
  },
  {
   "cell_type": "markdown",
   "id": "14c35c8a-3951-4331-818a-d1d1b0dacdec",
   "metadata": {},
   "source": [
    "### Körzetadatok összegzése"
   ]
  },
  {
   "cell_type": "code",
   "execution_count": null,
   "id": "21485704-dd6e-4b36-93ba-f2a4135cf5b4",
   "metadata": {},
   "outputs": [],
   "source": [
    "pickup_frequency = (\n",
    "    monthly_data\n",
    "    .PULocationID\n",
    "    .value_counts()\n",
    "    .reindex_like(data)\n",
    ")\n",
    "\n",
    "dropoff_frequency = (\n",
    "    monthly_data\n",
    "    .DOLocationID\n",
    "    .value_counts()\n",
    "    .reindex_like(data)\n",
    ")"
   ]
  },
  {
   "cell_type": "markdown",
   "id": "882e0b91-fc30-47a5-bc85-a4996299b1ca",
   "metadata": {},
   "source": [
    "### Logaritmus vétel és hiányzó adatok kitöltése"
   ]
  },
  {
   "cell_type": "code",
   "execution_count": null,
   "id": "c39f37bb-b158-48ef-a8b9-37876622ac7c",
   "metadata": {},
   "outputs": [],
   "source": [
    "data['PUFrequency'] += np.log(pickup_frequency).fillna(value=0)\n",
    "data['DOFrequency'] += np.log(dropoff_frequency).fillna(value=0)"
   ]
  },
  {
   "cell_type": "markdown",
   "id": "da0a8ac2-952f-464d-b815-f4eb7c498a57",
   "metadata": {},
   "source": [
    "### Kirajzolás"
   ]
  },
  {
   "cell_type": "code",
   "execution_count": null,
   "id": "f158cf3c-c936-41c4-bd2e-fa05baabdb57",
   "metadata": {},
   "outputs": [],
   "source": [
    "fig, ax = plt.subplots(2, 1, figsize=(13, 26))\n",
    "\n",
    "ax[0].set_xticks([])\n",
    "ax[0].set_yticks([])\n",
    "\n",
    "ax[1].set_xticks([])\n",
    "ax[1].set_yticks([])\n",
    "\n",
    "ax[0].title.set_text('Pick Up Frequency')\n",
    "ax[1].title.set_text('Drop Off Frequency')\n",
    "\n",
    "data.plot(\n",
    "    cmap='hot',\n",
    "    column='PUFrequency',\n",
    "    ax=ax[0],\n",
    "    legend=True,\n",
    "    edgecolor='black'\n",
    ")\n",
    "\n",
    "data.plot(\n",
    "    cmap='hot',\n",
    "    column='DOFrequency',\n",
    "    ax=ax[1],\n",
    "    legend=True,\n",
    "    edgecolor='black'\n",
    ")\n",
    "\n",
    "plt.show()"
   ]
  }
 ],
 "metadata": {
  "kernelspec": {
   "display_name": "Python 3 (ipykernel)",
   "language": "python",
   "name": "python3"
  },
  "language_info": {
   "codemirror_mode": {
    "name": "ipython",
    "version": 3
   },
   "file_extension": ".py",
   "mimetype": "text/x-python",
   "name": "python",
   "nbconvert_exporter": "python",
   "pygments_lexer": "ipython3",
   "version": "3.10.6"
  }
 },
 "nbformat": 4,
 "nbformat_minor": 5
}
