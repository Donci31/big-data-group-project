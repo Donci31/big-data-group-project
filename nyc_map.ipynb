{
 "cells": [
  {
   "cell_type": "code",
   "execution_count": null,
   "id": "7d0b78fe-f7f8-4f73-b97e-9607a893037f",
   "metadata": {},
   "outputs": [],
   "source": [
    "import pandas as pd\n",
    "import numpy as np\n",
    "import geopandas as gpd\n",
    "import matplotlib.pyplot as plt\n",
    "\n",
    "%matplotlib inline"
   ]
  },
  {
   "cell_type": "code",
   "execution_count": null,
   "id": "4f87ee92-198b-480a-a69b-0297e7a1ae35",
   "metadata": {},
   "outputs": [],
   "source": [
    "year = 2019\n",
    "month = 1\n",
    "\n",
    "monthly_data = pd.read_parquet(f'{year}/{year}-{month:02d}.parquet')"
   ]
  },
  {
   "cell_type": "code",
   "execution_count": null,
   "id": "3d588c25-c01a-4adc-8ecb-7734fe88e379",
   "metadata": {},
   "outputs": [],
   "source": [
    "from calendar import monthrange\n",
    "\n",
    "filter_columns = ['fare_amount', 'tip_amount', 'total_amount']\n",
    "percentile = 0.9999\n",
    "\n",
    "filter_string = ' & '.join(\n",
    "    (\n",
    "        f'(\"{year}, {month}, 1\" <= tpep_pickup_datetime) & (tpep_pickup_datetime <= \"{year}, {month}, {monthrange(year, month)[1]}\")',\n",
    "        f'(\"{year}, {month}, 1\" <= tpep_dropoff_datetime) & (tpep_dropoff_datetime <= \"{year}, {month}, {monthrange(year, month)[1]}\")',\n",
    "        '(tpep_pickup_datetime <= tpep_dropoff_datetime)',\n",
    "        '(1 <= passenger_count) & (passenger_count <= 6)',\n",
    "        '(0 < trip_distance) & (trip_distance <= 330)',\n",
    "        '(1 <= PULocationID) & (PULocationID <= 263)',\n",
    "        '(1 <= DOLocationID) & (DOLocationID <= 263)',\n",
    "        '(2.5 <= fare_amount)',\n",
    "        '(extra in (0, 0.5, 1))',\n",
    "        '(0 <= tip_amount)',\n",
    "        '(fare_amount <= total_amount)',\n",
    "        *(f'({column} <= {column}.quantile({percentile}))' for column in filter_columns)\n",
    "    )\n",
    ")\n",
    "\n",
    "monthly_data = monthly_data.query(filter_string)\n",
    "\n",
    "monthly_data = monthly_data[['PULocationID', 'DOLocationID']]"
   ]
  },
  {
   "cell_type": "code",
   "execution_count": null,
   "id": "e7998cdf-97d9-4724-9d1b-3df4851e2f90",
   "metadata": {},
   "outputs": [],
   "source": [
    "frequency = pd.DataFrame()\n",
    "\n",
    "frequency['PUFrequency'] = np.log(monthly_data.groupby(by='PULocationID').count())\n",
    "frequency['DOFrequency'] = np.log(monthly_data.groupby(by='DOLocationID').count())"
   ]
  },
  {
   "cell_type": "code",
   "execution_count": null,
   "id": "4fccb8a7-2029-4e8c-ac9f-7be5841b674a",
   "metadata": {},
   "outputs": [],
   "source": [
    "data = gpd.read_file('taxi_zones/taxi_zones.shp')"
   ]
  },
  {
   "cell_type": "code",
   "execution_count": null,
   "id": "74fe2aac-dfd4-488a-8499-023559f7ebe1",
   "metadata": {},
   "outputs": [],
   "source": [
    "coloured_data = data.join(other=frequency)\n",
    "\n",
    "coloured_data[['PUFrequency', 'DOFrequency']] = coloured_data[['PUFrequency', 'DOFrequency']].fillna(value=0)"
   ]
  },
  {
   "cell_type": "code",
   "execution_count": null,
   "id": "f158cf3c-c936-41c4-bd2e-fa05baabdb57",
   "metadata": {},
   "outputs": [],
   "source": [
    "fig, ax = plt.subplots(2, 1, figsize=(13, 26))\n",
    "\n",
    "coloured_data.plot(cmap='hot', vmax=13.5, column='PUFrequency', ax=ax[0], legend=True)\n",
    "coloured_data.plot(cmap='hot', vmax=13.5, column='DOFrequency', ax=ax[1], legend=True)\n",
    "\n",
    "ax[0].set_xticks([])\n",
    "ax[0].set_yticks([])\n",
    "\n",
    "ax[1].set_xticks([])\n",
    "ax[1].set_yticks([])\n",
    "\n",
    "ax[0].title.set_text('Pick Up Frequency')\n",
    "ax[1].title.set_text('Drop Off Frequency')\n",
    "\n",
    "plt.show()"
   ]
  }
 ],
 "metadata": {
  "kernelspec": {
   "display_name": "Python 3 (ipykernel)",
   "language": "python",
   "name": "python3"
  },
  "language_info": {
   "codemirror_mode": {
    "name": "ipython",
    "version": 3
   },
   "file_extension": ".py",
   "mimetype": "text/x-python",
   "name": "python",
   "nbconvert_exporter": "python",
   "pygments_lexer": "ipython3",
   "version": "3.10.8"
  }
 },
 "nbformat": 4,
 "nbformat_minor": 5
}
