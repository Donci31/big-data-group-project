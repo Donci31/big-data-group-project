{
 "cells": [
  {
   "cell_type": "markdown",
   "id": "79825c91",
   "metadata": {},
   "source": [
    "# Hogyan hatott a COVID a NYC sárgataxi-utakra?\n",
    "A COVID az élet minden területét erősen érintette, ebből pedig a New York-i taxiforgalom sem maradhatott ki. Ebben a notebook-ban összehasonlítjuk a New York-i sárga taxiutak jellemzőit a COVID előtti (2019-es év) és a COVID közbeni/utáni (2020-es év) időszakban. A feladatunk a következőkből fog állni: először is kifejtő adatelemzést végzünk az adatokon az adattisztítást követően, majd megjelenítjük az adatokat térképen is interaktív módon, végül pedig egy regressziós modellt illesztünk az adatokra, hogy prediktálni tudjuk borravaló mértékét bizonyos jellemzők alapján.\n",
    "\n",
    "Az adatokat az alábbi [linkről](http://www.nyc.gov/html/tlc/html/about/trip_record_data.shtml) lehet letölteni. Ahhoz, hogy az notebook helyesen tudjon futni, három mappának kell szerepelnie a notebook mappájában. Az első neve `2019`, ebbe kell elhelyezni a letöltött 2019-es adatok 12 darab parquet fájlját. A második `2020`, ebbe is a névnek megfelelő 12 parquet fájl kerül. Végül pedig az `sum` nevű mappára van szükség, amiben az összesített éves adatok fognak bekerülni a program által.\n",
    "\n",
    "Egyszerűbb alternatíva a `download.py` futtatása, ami mindezt automatikusan megteszi nekünk."
   ]
  },
  {
   "cell_type": "code",
   "execution_count": null,
   "id": "f304d0de",
   "metadata": {},
   "outputs": [],
   "source": [
    "import pandas as pd\n",
    "import plotly.express as px"
   ]
  },
  {
   "cell_type": "markdown",
   "id": "dc7751c7",
   "metadata": {},
   "source": [
    "## Adatok beolvasása és szűrése\n",
    "Először beolvassuk a 2019-as adatokat hónaponként, egy listába tesszük őket és szűrjük őket. Majd ugyanezeket a lépéseket megtesszük a 2020-as adatokkal is. Minden hónapból az adatok hetedrészét használjuk fel, hogy a hatalmas mennyiségű adattal tudjunk dolgozni.\n",
    "\n",
    "Pár oszlopnál tapasztaltunk rendkívül magas/alacsony értékeket (például 2088-as dátum).\n",
    "Az alábbi szűrési lépéseket tettük meg:\n",
    "\n",
    "* A dátumoknál meghatároztuk, hogy az adott hónap időkeretében kell lennie a `tpep_pickup_datetime` és a `tpep_dropoff_datetime`-nak.\n",
    "    * Az is fontos, hogy a `tpep_pickup_datetime` ne legyen előbb mint a `tpep_dropoff_datetime`.\n",
    "* A `passenger_count` minimum 1 és maximum 6 lehet, mivel ezt írja elő a törvény.\n",
    "* A `trip_distance` egy pozitív szám, ami kisebb, mint New York átmérője.\n",
    "* Összesen 263 körzet van, ezért a  `PULocationID` és a `DOLocationID` minimum 1 és maximum 263 lehet.\n",
    "* A `fare_amount` minimum 2.5\\\\$.\n",
    "* Az `extra` 0\\\\$, 0.5\\\\$, 1\\\\$ 2.5\\\\$, 3\\\\$ vagy 3.5\\\\$ lehet.\n",
    "* A `tip_amount` nem lehet negatív, és a `fare_amount` nem lehet nagyobb, mint a `total_amount`.\n",
    "* Felső korlátnak, csak megadtuk, hogy a 99.99-es percentillisig szűrjön a `fare_amount`, `tip_amount` és a `total_amount` oszlopoknál."
   ]
  },
  {
   "cell_type": "code",
   "execution_count": null,
   "id": "8aa347fc",
   "metadata": {},
   "outputs": [],
   "source": [
    "from calendar import monthrange\n",
    "\n",
    "filtered_month_dict = { 2019: [], 2020: [] }\n",
    "\n",
    "for year in (2019, 2020):\n",
    "    for month in range(1, 13):\n",
    "        monthly_data = pd.read_parquet(\n",
    "            path=f'{year}/{year}-{month:02d}.parquet',\n",
    "            columns=['tpep_pickup_datetime', 'tpep_dropoff_datetime', 'passenger_count',\n",
    "                     'trip_distance', 'PULocationID', 'DOLocationID', 'payment_type',\n",
    "                     'fare_amount', 'extra', 'tip_amount', 'total_amount']\n",
    "        )\n",
    "\n",
    "        filter_columns = ['passenger_count', 'trip_distance', 'fare_amount',\n",
    "                          'extra', 'tip_amount', 'total_amount']\n",
    "\n",
    "        percentile = 0.9999\n",
    "\n",
    "        filter_string = ' & '.join(\n",
    "            (\n",
    "                f'(\"{year}, {month}, 1\" <= tpep_pickup_datetime)',\n",
    "                f'(tpep_pickup_datetime <= \"{year}, {month}, {monthrange(year, month)[1]}\")',\n",
    "                f'(\"{year}, {month}, 1\" <= tpep_dropoff_datetime)',\n",
    "                f'(tpep_dropoff_datetime <= \"{year}, {month}, {monthrange(year, month)[1]}\")',\n",
    "                '(tpep_pickup_datetime <= tpep_dropoff_datetime)',\n",
    "                '(1 <= passenger_count) & (passenger_count <= 6)',\n",
    "                '(0 < trip_distance) & (trip_distance <= 330)',\n",
    "                '(1 <= PULocationID) & (PULocationID <= 263)',\n",
    "                '(1 <= DOLocationID) & (DOLocationID <= 263)',\n",
    "                '(2.5 <= fare_amount)',\n",
    "                '(extra in (0, 0.5, 1, 2.5, 3, 3.5))',\n",
    "                '(0 <= tip_amount)',\n",
    "                '(fare_amount <= total_amount)',\n",
    "                *(f'({column} <= {column}.quantile({percentile}))' for column in filter_columns)\n",
    "            )\n",
    "        )\n",
    "\n",
    "        filtered_month_dict[year].append(\n",
    "            monthly_data\n",
    "            .sample(n=len(monthly_data) // 7)\n",
    "            .query(filter_string)\n",
    "        )\n",
    "\n",
    "sum_2019 = pd.concat(filtered_month_dict[2019])\n",
    "sum_2019.to_parquet('sum/sum_samp2019.parquet')\n",
    "\n",
    "sum_2020 = pd.concat(filtered_month_dict[2020])\n",
    "sum_2020.to_parquet('sum/sum_samp2020.parquet')"
   ]
  },
  {
   "cell_type": "markdown",
   "id": "a7249b06",
   "metadata": {},
   "source": [
    "### Éves adatok összeillesztése az EDA-hoz\n",
    "Összeillesztjük a két éves (2019 és 2020) adathalmazt, hogy elemezni tudjuk."
   ]
  },
  {
   "cell_type": "code",
   "execution_count": null,
   "id": "594a2be4",
   "metadata": {},
   "outputs": [],
   "source": [
    "sum_filtered_2019 = pd.read_parquet('sum/sum_samp2019.parquet')\n",
    "sum_filtered_2019['year'] = '2019'\n",
    "sum_filtered_2019['hetvege'] = sum_filtered_2019['tpep_pickup_datetime'].dt.dayofweek > 5\n",
    "\n",
    "sum_filtered_2020 = pd.read_parquet('sum/sum_samp2020.parquet')\n",
    "sum_filtered_2020['year'] = '2020'\n",
    "sum_filtered_2020['hetvege'] = sum_filtered_2020['tpep_pickup_datetime'].dt.dayofweek > 5\n",
    "\n",
    "sum_filtered = pd.concat([sum_filtered_2019, sum_filtered_2020])"
   ]
  },
  {
   "cell_type": "markdown",
   "id": "47eae5ae",
   "metadata": {},
   "source": [
    "### Kártyás adatok szűrése\n",
    "Leszűrjük az adatokat, hogy csak a kártyás fizetések jelenjenek meg. A borravaló vizsgálat szempontjából ugyanis csak a kártyás fizetésre van szükségünk, mivel csak azoknál mértek borravalót."
   ]
  },
  {
   "cell_type": "code",
   "execution_count": null,
   "id": "487ce525",
   "metadata": {},
   "outputs": [],
   "source": [
    "only_card_data = sum_filtered[sum_filtered.payment_type == 1]"
   ]
  },
  {
   "cell_type": "markdown",
   "id": "1262972c",
   "metadata": {},
   "source": [
    "## Kifejtő adatelemzés (EDA)"
   ]
  },
  {
   "cell_type": "markdown",
   "id": "c6e0c9b8",
   "metadata": {},
   "source": [
    "### Az utazás távolsága és az extra költségek kapcsolata\n",
    "Ezen a ploton azt vizsgáljuk meg hogy hogyan függ az utazás távolsága az extra költségektől. Extra költség típusok: 0.50 overnight charge(8pm-6am), 1 rush hour charge(4pm-8pm), New York State Congestion Surcharge (Ha manhattan 96th útja déli részét érinti az út) of 2.50. Az utóbbit nem tartalmazza az adatszolgáltatók szerint, de az adatokból úgy tűnik, hogy tartalmazza.\n",
    "\n",
    "A diagrammon az látszik hogy éjszaka hosszabb távon igényelték a taxikat mindkét évben, mint normál időpontokban. 2019-ben rush órákban rövidebb távot utaztak, mint normál, nem extra költésges időkben, míg ez 2020-ben pont fordítva volt. Itt pont az ellentettjére számítottunk, mert gondoltuk, hogy 2020-ban a munkahelyüktől távolabb élők nagyobb számban dolgoztak otthonról, mint a közelebb élők. A 96th utcát érintő taxizások hossza kicsivel rövidebb mint az azt nem érintőké."
   ]
  },
  {
   "cell_type": "code",
   "execution_count": null,
   "id": "429a331a",
   "metadata": {},
   "outputs": [],
   "source": [
    "fig = px.box(\n",
    "    sum_filtered\n",
    "    .sample(n=10000)\n",
    "    .sort_index(),\n",
    "    x='extra',\n",
    "    y='trip_distance',\n",
    "    color='year'\n",
    ")\n",
    "\n",
    "fig.update_yaxes(type='log', tickformat='.2f')\n",
    "fig"
   ]
  },
  {
   "cell_type": "markdown",
   "id": "c8162a17",
   "metadata": {},
   "source": [
    "### A borravaló és extra költségek kapcsolata\n",
    "Ezen a ploton a borravaló átlagos mennyiségét vizsgáljuk az extra költségek szempontjából. Ehhez a plothoz csak a kártyával fizetők adatait használtuk, mert csak náluk jelenítették meg a borravalót.\n",
    "\n",
    "A ploton látható, hogy mind a rush órákban mind az éjszakai órákban a borravaló átlagos mennyisége nagyobb a normál órákhoz képest. A rush órákban és éjszakai órákban körülbelül ugyanannyi az átlagos borravaló. A 96th utcát érintő taxizásoknál nem volt nagy eltérés az azt nem érintőkhöz képest."
   ]
  },
  {
   "cell_type": "code",
   "execution_count": null,
   "id": "e247ae74",
   "metadata": {},
   "outputs": [],
   "source": [
    "fig = px.box(\n",
    "    only_card_data\n",
    "    .sample(n=10000)\n",
    "    .sort_index(),\n",
    "    x='extra',\n",
    "    y='tip_amount',\n",
    "    color='year'\n",
    ")\n",
    "\n",
    "fig.update_yaxes(type='log', tickformat='.2f')\n",
    "fig"
   ]
  },
  {
   "cell_type": "markdown",
   "id": "035f2b64",
   "metadata": {},
   "source": [
    "### A borravaló és út hosszának kapcsolata\n",
    "Ezen a ploton a borravalót és a út hosszát hasonlítjuk össze. Sok egy sorban levő adat van, ezek a kerek mennyiségű borravalók miatt vannak. A 0 sorban azok az adatok vannak ahol nem adtak borravalót."
   ]
  },
  {
   "cell_type": "code",
   "execution_count": null,
   "id": "d38e4a61",
   "metadata": {},
   "outputs": [],
   "source": [
    "fig = px.strip(\n",
    "    only_card_data\n",
    "    .sample(n=10000, random_state=123)\n",
    "    .sort_index(),\n",
    "    x='trip_distance',\n",
    "    y='tip_amount',\n",
    "    color='year'\n",
    ")\n",
    "\n",
    "fig"
   ]
  },
  {
   "cell_type": "markdown",
   "id": "4326924f",
   "metadata": {},
   "source": [
    "### A teljes összeg és extra költségek kapcsolata\n",
    "Ezen a ploton a teljes összeget vizsgáljuk az extra költségektől függően. \n",
    "Ez esetben a a rush óráknál és az éjszakai óráknál körülbelül ugyanannyi az átlagos összköltség, ezekhez képest a normál órákban kevesebb. A 96th útot érintő és nem érintő utaknál megegyeznek a megfelelő adatok, kivéve 2019-ben az átlag nagyobb az utcát érintőknél rush órákban, mint az utcát nem érintőknél. 2019-ben minden esetben magasabb volt az átlagos összköltség mint 2020-ban."
   ]
  },
  {
   "cell_type": "code",
   "execution_count": null,
   "id": "b457763d",
   "metadata": {},
   "outputs": [],
   "source": [
    "fig = px.box(\n",
    "    sum_filtered\n",
    "    .sample(n=10000)\n",
    "    .sort_index(),\n",
    "    x='extra',\n",
    "    y='total_amount',\n",
    "    color='year'\n",
    ")\n",
    "\n",
    "fig.update_yaxes(type='log', tickformat='.0f')\n",
    "fig"
   ]
  },
  {
   "cell_type": "code",
   "execution_count": null,
   "id": "321ced9d",
   "metadata": {},
   "outputs": [],
   "source": [
    "fig = px.box(\n",
    "    sum_filtered\n",
    "    .sample(n=10000, random_state=95)\n",
    "    .sort_index(),\n",
    "    x='extra',\n",
    "    y='total_amount',\n",
    "    color='year'\n",
    ")\n",
    "\n",
    "fig.update_yaxes(type='log', tickformat='.0f')\n",
    "fig"
   ]
  },
  {
   "cell_type": "markdown",
   "id": "f08bbdb6",
   "metadata": {},
   "source": [
    "### Átlagos vitelár vizsgálata\n",
    "Ezen a ploton az átlagos fare amountot vizsgáljuk évenként. A fare amount a taxi óra által számított ár. Ebben nincsenek az extra költségek benne.\n",
    "2019-ben magasabb volt az átlagos vitelár, mint 2020-ban."
   ]
  },
  {
   "cell_type": "code",
   "execution_count": null,
   "id": "e6458e7f",
   "metadata": {},
   "outputs": [],
   "source": [
    "fig = px.histogram(\n",
    "    sum_filtered\n",
    "    .sample(n=100000)\n",
    "    .sort_index(),\n",
    "    x='year',\n",
    "    y='fare_amount',\n",
    "    color='year',\n",
    "    color_discrete_sequence=px.colors.qualitative.Dark2,\n",
    "    histfunc='avg'\n",
    ")\n",
    "\n",
    "fig"
   ]
  },
  {
   "cell_type": "markdown",
   "id": "15d2392b",
   "metadata": {},
   "source": [
    "### Átlagos távolság vizsgálata\n",
    "A vitelárhoz hasonlóan a távolság is átlagosan magasabb volt 2019-ben mint 2020-ban. Ez a kettő erősen összefügg mivel a fare amount jelentős része a távolságdíjból származik."
   ]
  },
  {
   "cell_type": "code",
   "execution_count": null,
   "id": "acce165a",
   "metadata": {},
   "outputs": [],
   "source": [
    "fig = px.histogram(\n",
    "    sum_filtered\n",
    "    .sample(n=100000)\n",
    "    .sort_index(),\n",
    "    x='year',\n",
    "    y='trip_distance',\n",
    "    color='year',\n",
    "    color_discrete_sequence=px.colors.qualitative.Dark2,\n",
    "    histfunc='avg'\n",
    ")\n",
    "\n",
    "fig"
   ]
  },
  {
   "cell_type": "markdown",
   "id": "c34edea7",
   "metadata": {},
   "source": [
    "### Utazások átlagos távolsága időhöz viszonyítva\n",
    "Itt a idő során az utazások átlagos hosszát jelenítjük meg egy hisztogramon.\n",
    "\n",
    "Azt láthatjuk, hogy az első lockdown idején kis csökkenés figyelhető meg az utak távolságában, valószínűleg mivel az emberek csak a szükségesebb helyekre mentek el, amik távolsága is kisebb lehetett."
   ]
  },
  {
   "cell_type": "code",
   "execution_count": null,
   "id": "24d6d64e",
   "metadata": {},
   "outputs": [],
   "source": [
    "fig = px.histogram(\n",
    "    sum_filtered\n",
    "    .sample(n=400000)\n",
    "    .sort_index(),\n",
    "    x='tpep_pickup_datetime',\n",
    "    y='trip_distance',\n",
    "    histfunc='sum',\n",
    "    nbins=200\n",
    ")\n",
    "\n",
    "fig"
   ]
  },
  {
   "cell_type": "markdown",
   "id": "6979bcbf",
   "metadata": {},
   "source": [
    "### Utazások összköltsége időre lebontva\n",
    "Az utazások összköltségének hisztogramján tisztán kivehető a COVID okozta lockdown hatása, hiszen áprilisban, amikor a lezárások beindultak az USA-ban, úgy természetesen a taxiutak száma, és így a belőlük származó bevétel is számottevően csökkent."
   ]
  },
  {
   "cell_type": "code",
   "execution_count": null,
   "id": "4ad61e4d",
   "metadata": {},
   "outputs": [],
   "source": [
    "fig = px.histogram(\n",
    "    sum_filtered\n",
    "    .sample(n=400000)\n",
    "    .sort_index(),\n",
    "    x='tpep_pickup_datetime',\n",
    "    y='total_amount',\n",
    "    histfunc='sum',\n",
    "    nbins=100\n",
    ")\n",
    "\n",
    "fig"
   ]
  },
  {
   "cell_type": "markdown",
   "id": "52d6ac1a",
   "metadata": {},
   "source": [
    "### Hétvége és hétköznapok összevetése\n",
    "A diagramon láthatjuk, hogy az embereket nem befolyásolja az, hogy hétvégén utaznak taxin, vagy hétköznap, a `total_amount` független ettől."
   ]
  },
  {
   "cell_type": "code",
   "execution_count": null,
   "id": "aaf679c2",
   "metadata": {},
   "outputs": [],
   "source": [
    "fig = px.histogram(\n",
    "    sum_filtered\n",
    "    .sample(n=100000)\n",
    "    .sort_index(),\n",
    "    x='year',\n",
    "    y='total_amount',\n",
    "    color='hetvege',\n",
    "    barmode='group',\n",
    "    histfunc='avg'\n",
    ")\n",
    "\n",
    "fig"
   ]
  },
  {
   "cell_type": "markdown",
   "id": "219f5923",
   "metadata": {},
   "source": [
    "## Adatvizualizáció\n",
    "Az `PULocationID` és a `DOLocationID` oszlopokban megadott New York-i körzetekre vetítve megjelenítjük a várostérképen az utazási adatokat először statikus, majd interaktív módon is."
   ]
  },
  {
   "cell_type": "code",
   "execution_count": null,
   "id": "1de6312b",
   "metadata": {},
   "outputs": [],
   "source": [
    "import dask.dataframe as dd\n",
    "import contextily as cx\n",
    "import numpy as np\n",
    "import geopandas as gpd\n",
    "import matplotlib.pyplot as plt"
   ]
  },
  {
   "cell_type": "markdown",
   "id": "a3550f91",
   "metadata": {},
   "source": [
    "### Adatok betöltése\n",
    "\n",
    "Beolvassuk a 2019-es és 2020-as adatokból a körzet azonosítókat.\n",
    "\n",
    "A rendkívül nagy adatmennyiséghez már nem elengendő a $Pandas$ használata, $Dask$ keretrenszerre lesz szükségünk."
   ]
  },
  {
   "cell_type": "code",
   "execution_count": null,
   "id": "19bf6e33",
   "metadata": {},
   "outputs": [],
   "source": [
    "filter_string = ' & '.join(\n",
    "    (\n",
    "        '(1 <= PULocationID) & (PULocationID <= 263)',\n",
    "        '(1 <= DOLocationID) & (DOLocationID <= 263)'\n",
    "    )\n",
    ")\n",
    "\n",
    "pre_covid_data = dd.read_parquet(\n",
    "    path='2019',\n",
    "    columns=['PULocationID', 'DOLocationID']\n",
    ")\n",
    "\n",
    "covid_data = dd.read_parquet(\n",
    "    path='2020',\n",
    "    columns=['PULocationID', 'DOLocationID']\n",
    ")\n",
    "\n",
    "pre_covid_data = pre_covid_data.query(filter_string)\n",
    "covid_data = covid_data.query(filter_string)"
   ]
  },
  {
   "cell_type": "markdown",
   "id": "93b08966",
   "metadata": {},
   "source": [
    "### Földrajzi adatok beolvasása\n",
    "\n",
    "A földrajzi adatok kezelésére $GeoPandas$-t használunk."
   ]
  },
  {
   "cell_type": "code",
   "execution_count": null,
   "id": "487327a1",
   "metadata": {},
   "outputs": [],
   "source": [
    "data = (\n",
    "    gpd\n",
    "    .read_file(\n",
    "        filename='taxi_zones/taxi_zones.shp',\n",
    "        ignore_fields=['Shape_Leng', 'Shape_Area', 'LocationID', 'borough']\n",
    "    )\n",
    "    .set_index('OBJECTID')\n",
    "    .rename_axis('LocationID')\n",
    "    .rename(columns={'zone': 'Zone'})\n",
    ")"
   ]
  },
  {
   "cell_type": "markdown",
   "id": "b7431314",
   "metadata": {},
   "source": [
    "### Körzetadatok összegzése\n",
    "\n",
    "Megszámoljuk minden körzetre a `PULocationID`-t és a `DOLocationID`-t, majd ezeket eltároljuk a `data` dataframe megfelelő oszlopában.\n",
    "\n",
    "Hiányzó adatokat 1-re állítottuk, hogy ne legyen gond az osztásnál, valamint a logaritmus vételnél."
   ]
  },
  {
   "cell_type": "code",
   "execution_count": null,
   "id": "b4b9ae91",
   "metadata": {},
   "outputs": [],
   "source": [
    "data['PUFrequencyPrC'] = (\n",
    "    pre_covid_data\n",
    "    .PULocationID\n",
    "    .value_counts()\n",
    "    .compute()\n",
    "    .reindex_like(data)\n",
    "    .fillna(value=1)\n",
    ")\n",
    "\n",
    "data['DOFrequencyPrC'] = (\n",
    "    pre_covid_data\n",
    "    .DOLocationID\n",
    "    .value_counts()\n",
    "    .compute()\n",
    "    .reindex_like(data)\n",
    "    .fillna(value=1)\n",
    ")\n",
    "\n",
    "data['PUFrequencyC'] = (\n",
    "    covid_data\n",
    "    .PULocationID\n",
    "    .value_counts()\n",
    "    .compute()\n",
    "    .reindex_like(data)\n",
    "    .fillna(value=1)\n",
    ")\n",
    "\n",
    "data['DOFrequencyC'] = (\n",
    "    covid_data\n",
    "    .DOLocationID\n",
    "    .value_counts()\n",
    "    .compute()\n",
    "    .reindex_like(data)\n",
    "    .fillna(value=1)\n",
    ")"
   ]
  },
  {
   "cell_type": "markdown",
   "id": "5dd93ea2",
   "metadata": {},
   "source": [
    "### Differencia adatok képzése\n",
    "Differencia képzéshez osztást használtunk, mivel nagyságrendbeli különbség volt az adatok között.\n",
    "\n",
    "A szép kirajzolhatóság miatt az adatokokat logaritmikus skálával jelenítjük meg."
   ]
  },
  {
   "cell_type": "code",
   "execution_count": null,
   "id": "35f5b2d4",
   "metadata": {},
   "outputs": [],
   "source": [
    "data['PUDifference'] = np.log10(data['PUFrequencyC'] / data['PUFrequencyPrC'])\n",
    "data['DODifference'] = np.log10(data['DOFrequencyC'] / data['DOFrequencyPrC'])"
   ]
  },
  {
   "cell_type": "markdown",
   "id": "2a5caa7a",
   "metadata": {},
   "source": [
    "### Statikus kirajzolás\n",
    "A térképeken a körzetekből kiinduló és a körzetekbe érkező utak mennyisége látható."
   ]
  },
  {
   "cell_type": "code",
   "execution_count": null,
   "id": "791de8ce",
   "metadata": {},
   "outputs": [],
   "source": [
    "from mpl_toolkits.axes_grid1.axes_divider import make_axes_locatable\n",
    "from matplotlib.colors import LogNorm\n",
    "\n",
    "fig, ax = plt.subplots(2, 2, figsize=(13, 13))\n",
    "\n",
    "fig.tight_layout()\n",
    "\n",
    "title_array = np.array(\n",
    "    [['Pick Up Frequency Pre-Covid', 'Pick Up Frequency Covid'],\n",
    "     ['Drop Off Frequency Pre-Covid', 'Drop Off Frequency Covid']]\n",
    ")\n",
    "\n",
    "colour_array = np.array(\n",
    "    [[data['PUFrequencyPrC'], data['PUFrequencyC']], \n",
    "     [data['DOFrequencyPrC'], data['DOFrequencyC']]]\n",
    ")\n",
    "\n",
    "data_wm = data.to_crs(epsg=3857)\n",
    "\n",
    "for row in range(2):\n",
    "    for column in range(2):\n",
    "        ax[row, column].title.set_text(title_array[row, column])\n",
    "        \n",
    "        ax[row, column].set_xticks([])\n",
    "        ax[row, column].set_yticks([])\n",
    "        \n",
    "        coloured_map = data_wm.plot(\n",
    "            cmap='Spectral',\n",
    "            column=colour_array[row, column],\n",
    "            norm=LogNorm(\n",
    "                vmin=colour_array[row, column].min(),\n",
    "                vmax=colour_array[row, column].max()\n",
    "            ),\n",
    "            ax=ax[row, column],\n",
    "            edgecolor='black',\n",
    "            legend=True,\n",
    "            cax=(\n",
    "                make_axes_locatable(ax[row, column])\n",
    "                .append_axes('right', size='5%', pad=0.1)\n",
    "            )\n",
    "        )\n",
    "\n",
    "        cx.add_basemap(coloured_map, source=cx.providers.Stamen.TonerLite)\n",
    "\n",
    "plt.show()"
   ]
  },
  {
   "cell_type": "markdown",
   "id": "f4d22ecc",
   "metadata": {},
   "source": [
    "Láthatjuk, hogy Manhattan mennyire zsúfolt a taxiutak szempontjából, messze onnan indul és ott is ér véget a legtöbb taxiút. Észrevehető továbbá az is, hogy a JFK, a Newark és a LaGuardia repterek is lényegesen nagyobb taxiforgalmat bonyolítanak le, mint a közvetlen környezetük, érthető okokból. \n",
    "\n",
    "Azonban talán kicsit meglepő lehet, hogy majdnem egy nagyságrenddel több taxi rak le utasokat a Newark reptéren, mint amennyi felvesz onnan. Ezt talán azzal lehet magyarázni, hogy onnan vagy nem New York-ba mennek inkább az emberek (hanem például New Jersey-be), vagy akár lehet, hogy jobban megéri onnan autót bérelni, mint taxiba szállni, hiszen viszonylag távolabb van a belvárostól.\n",
    "\n",
    "Látszik az is, hogy minél távolabb megyünk Manhattantől, annál kevesebb taxiút részei lesznek ezek a távolabbi régiók. Ez többek között azért is lehet, mivel akik onnan indulnak, vagy oda érkeznek, azok valószínűleg nem New York-ból jönnek, hanem valamely más környező városokból, amely taxiutak nem szerepelnek a mi adatainkban."
   ]
  },
  {
   "cell_type": "markdown",
   "id": "ab956845",
   "metadata": {},
   "source": [
    "### Az indulási gyakoriság megváltozása a COVID alatt körzetekre nézve"
   ]
  },
  {
   "cell_type": "code",
   "execution_count": null,
   "id": "cd6b5ebd",
   "metadata": {},
   "outputs": [],
   "source": [
    "data_wm.explore(\n",
    "    column=data['PUDifference'],\n",
    "    tooltip='Zone',\n",
    "    cmap='Spectral',\n",
    "    legend=True,\n",
    "    popup=['Zone', 'PUFrequencyPrC', 'PUFrequencyC'],\n",
    "    tiles='Stamen TonerLite',\n",
    "    style_kwds=dict(color='black')\n",
    ")"
   ]
  },
  {
   "cell_type": "markdown",
   "id": "4a486cc3",
   "metadata": {},
   "source": [
    "Látható, hogy a legnagyobb csökkenés a taxiforgalomat vizsgálva a belvárosban és a reptereken történt a COVID hatására. Annyira kevesen utaztak repülővel, hogy a LaGuardia repteren a taxik 2 millió utas helyett csak 400 ezret vettek fel a vírusnak köszönhetően. \n",
    "\n",
    "Ezek mellett észrevehető, hogy \"nagy\" változás látható a nyugati oldalon, azonban ha jobban megvizsgáljuk, akkor ez valószínűleg leginkább az adatok kevés mennyiségén múlhat. Például Rossville/Woodrow körzetben a 23 felvett utas 63-ra nött, ami lehet, hogy arányban nagy változást jelent, de nem számottevő az adatok kis mennyisége miatt. "
   ]
  },
  {
   "cell_type": "markdown",
   "id": "5b5970b6",
   "metadata": {},
   "source": [
    "### Az érkezési gyakoriság megváltozása a COVID alatt körzetekre nézve"
   ]
  },
  {
   "cell_type": "code",
   "execution_count": null,
   "id": "e31d90eb",
   "metadata": {},
   "outputs": [],
   "source": [
    "data_wm.explore(\n",
    "    column=data['DODifference'],\n",
    "    tooltip='Zone',\n",
    "    cmap='Spectral',\n",
    "    legend=True,\n",
    "    popup=['Zone', 'PUFrequencyPrC', 'PUFrequencyC'],\n",
    "    tiles='Stamen TonerLite',\n",
    "    style_kwds=dict(color='black')\n",
    ")"
   ]
  },
  {
   "cell_type": "markdown",
   "id": "5303900f",
   "metadata": {},
   "source": [
    "Az érkezési gyakoriságban is hasonló változásokat figyelhettünk meg a COVID következtében. Szinte mindenhol lényegesn csökkent az utasok lerakásának száma, de főleg a reptereken és Manhattan környékén a legészrevehetőbb a változás."
   ]
  },
  {
   "cell_type": "markdown",
   "id": "a2b74212",
   "metadata": {},
   "source": [
    "## A borravaló vizsgálata\n",
    "Megvizsgáltuk az utasok által adott borravalók alakulását a COVID hatására, és hogy milyen jellemzők befolyásolták azt."
   ]
  },
  {
   "cell_type": "code",
   "execution_count": null,
   "id": "1503d947",
   "metadata": {},
   "outputs": [],
   "source": [
    "card_data_2019 = sum_filtered_2019.query('payment_type == 1')\n",
    "card_data_2020 = sum_filtered_2020.query('payment_type == 1')"
   ]
  },
  {
   "cell_type": "markdown",
   "id": "ed1d83b3",
   "metadata": {},
   "source": [
    "### Tengelyértékek meghatározása\n",
    "A tengelyeknek először a `total_amount` és `tip_amount` oszlopokat választjuk."
   ]
  },
  {
   "cell_type": "code",
   "execution_count": null,
   "id": "9b50b38d",
   "metadata": {},
   "outputs": [],
   "source": [
    "X = (card_data_2019\n",
    "     .total_amount\n",
    "     .values\n",
    "     .reshape(-1, 1))\n",
    "\n",
    "Y = (card_data_2019\n",
    "     .tip_amount\n",
    "     .values\n",
    "     .reshape(-1, 1))"
   ]
  },
  {
   "cell_type": "markdown",
   "id": "21923ddf",
   "metadata": {},
   "source": [
    "### COVID előtti borravaló és összköltség korrelációja\n",
    "Mivel az EDA fázis közben azt vettük észre, hogy erős korreláció van a teljes költség és a borravaló között, ezért ennek a kettőnek a kapcsolatát vizsgáltuk először a COVID előtti 2019-es adatokra."
   ]
  },
  {
   "cell_type": "code",
   "execution_count": null,
   "id": "76145c4b",
   "metadata": {},
   "outputs": [],
   "source": [
    "plt.figure(figsize=(15, 15))\n",
    "plt.scatter(X, Y, s=1)\n",
    "plt.xlabel(\"Total Amount\")\n",
    "plt.ylabel(\"Tip Amount\")\n",
    "plt.title(\"Pre-Covid Tipping\")\n",
    "plt.show()"
   ]
  },
  {
   "cell_type": "markdown",
   "id": "7bf54e56",
   "metadata": {},
   "source": [
    "A fentebbi ploton az látszik, hogy felfedezhetőek bizonyos minták és szabályszerűségek abban, hogy hogyan adnak borravalót az emberek.\n",
    "\n",
    "Először is látszanak vízszintes vonalak, amik azt jelzik, hogy az emberek egy része mindig egy adott összeget ad (pl. 10 dollár) borravalónak, az utazás költségévtől függetlenül.\n",
    "\n",
    "Emellett az is észrevehető, hogy vannak az origóból kiinduló egyenesek, amik azt jelzik, hogy az emberek egy része a teljes költséghez mérten ad százalékosan borravalót (pl. 10%, 20%).\n",
    "\n",
    "Végül pedig van 2 egyenes, ami 55 és 65 dollártól indul a teljes költségnél, és egészen meredeken nő, azaz ők is szabályszerűen adtak borravalót."
   ]
  },
  {
   "cell_type": "markdown",
   "id": "1ef3f57c",
   "metadata": {},
   "source": [
    "### Szabályszerűségek"
   ]
  },
  {
   "cell_type": "code",
   "execution_count": null,
   "id": "a2f50924",
   "metadata": {},
   "outputs": [],
   "source": [
    "plt.figure(figsize=(15, 15))\n",
    "\n",
    "plt.scatter(X, Y, s=1)\n",
    "\n",
    "plt.plot(X, X * 0.05, color='grey', label='5% tip')\n",
    "plt.plot(X, X * 0.09, color='black', label='9% tip')\n",
    "plt.plot(X, X * 0.13, color='purple', label='13% tip')\n",
    "plt.plot(X, X * 0.166, color='pink', label='16.6% tip')\n",
    "plt.plot(X, X * 0.2, color='red', label='20% tip')\n",
    "plt.plot(X, X * 0.23, color='green', label='23% tip')\n",
    "\n",
    "plt.legend(loc=\"upper left\")\n",
    "plt.xlabel(\"Total Amount\")\n",
    "plt.ylabel(\"Tip Amount\")\n",
    "plt.title(\"Pre-Covid Tipping With Highlighted Patterns\")\n",
    "\n",
    "plt.show()"
   ]
  },
  {
   "cell_type": "markdown",
   "id": "699e07cc",
   "metadata": {},
   "source": [
    "### Borravaló aránya\n",
    "A következő histogramon azt fogjuk megvizsgálni, hogy a teljes összeghez képest arányosan mennyi borravalót szoktak adni az utasok, és azt milyen gyakorisággal teszik. Láthatjuk, hogy leggyakrabban kb. 17%-ot szoktak adni borravalónak."
   ]
  },
  {
   "cell_type": "code",
   "execution_count": null,
   "id": "0301049f",
   "metadata": {},
   "outputs": [],
   "source": [
    "plt.hist(Y / X, bins=100)\n",
    "plt.xlim([0, 0.3])\n",
    "plt.xlabel(\"Tip Percentage\")\n",
    "plt.ylabel(\"Frequency\")\n",
    "plt.title(\"Tip Frequency By Percentage\")\n",
    "plt.show()"
   ]
  },
  {
   "cell_type": "markdown",
   "id": "7d812c51",
   "metadata": {},
   "source": [
    "## Regressziós modell\n",
    "### COVID előtt (2019)\n",
    "Egy alapvető lineáris regresszióval próbáljuk meg megbecsülni a borravaló mértékét a teljes költség alapján először a 2019-es adatokra. Ennek eredménye az alábbi regressziós egyenes lesz, ami nagyjából a 14%-os borravaló arányt prediktál a teljes költség függvényében."
   ]
  },
  {
   "cell_type": "code",
   "execution_count": null,
   "id": "de45e9fc",
   "metadata": {},
   "outputs": [],
   "source": [
    "from sklearn.linear_model import LinearRegression\n",
    "\n",
    "linear_regressor = LinearRegression() \n",
    "linear_regressor.fit(X, Y) \n",
    "Y_pred = linear_regressor.predict(X) \n",
    "\n",
    "plt.figure(figsize=(15, 15))\n",
    "plt.scatter(X, Y, s=1)\n",
    "plt.plot(X, Y_pred, color='red')\n",
    "plt.show()"
   ]
  },
  {
   "cell_type": "markdown",
   "id": "a465dfc9",
   "metadata": {},
   "source": [
    "### COVID utáni (2020)\n",
    "Ezt követően a 2020-as adatokra illesztettünk regressziós egyenest."
   ]
  },
  {
   "cell_type": "code",
   "execution_count": null,
   "id": "0b66db7e",
   "metadata": {},
   "outputs": [],
   "source": [
    "X = (card_data_2020\n",
    "     .total_amount\n",
    "     .values\n",
    "     .reshape(-1, 1))\n",
    "\n",
    "Y = (card_data_2020\n",
    "     .tip_amount\n",
    "     .values\n",
    "     .reshape(-1, 1))\n",
    "\n",
    "linear_regressor.fit(X, Y) \n",
    "Y_pred = linear_regressor.predict(X) \n",
    "\n",
    "plt.figure(figsize=(15, 15))\n",
    "plt.scatter(X, Y, s=1)\n",
    "plt.plot(X, Y_pred, color='red')\n",
    "plt.show()"
   ]
  },
  {
   "cell_type": "markdown",
   "id": "111ccb69",
   "metadata": {},
   "source": [
    "Látható, hogy a COVID hatására nem sokat változtak az emberek borravaló fizetési szokásai, szinte ugyanazok a minták láthatóak a scatterploton, és a regressziós egyenes is egészen hasonló a 2019-eshez."
   ]
  },
  {
   "cell_type": "markdown",
   "id": "2989bff1",
   "metadata": {},
   "source": [
    "## Klasszifikációs modell\n",
    "### COVID előtt (2019)"
   ]
  },
  {
   "cell_type": "code",
   "execution_count": null,
   "id": "60c2ca2f",
   "metadata": {},
   "outputs": [],
   "source": [
    "from sklearn import tree"
   ]
  },
  {
   "cell_type": "code",
   "execution_count": null,
   "id": "41279067",
   "metadata": {},
   "outputs": [],
   "source": [
    "card_data_2019['tip_class'] = pd.qcut(\n",
    "    card_data_2019['tip_amount'] / card_data_2019['total_amount'],\n",
    "    5,\n",
    "    labels=['low', 'low2', 'low3', 'medium', 'high']\n",
    ")"
   ]
  },
  {
   "cell_type": "code",
   "execution_count": null,
   "id": "2e400b53",
   "metadata": {},
   "outputs": [],
   "source": [
    "X = card_data_2019.loc[:, ['trip_distance']]\n",
    "y = card_data_2019['tip_class']"
   ]
  },
  {
   "cell_type": "code",
   "execution_count": null,
   "id": "379143d3",
   "metadata": {},
   "outputs": [],
   "source": [
    "clf = tree.DecisionTreeClassifier(criterion='entropy', max_depth=2)\n",
    "\n",
    "clf = clf.fit(X, y)\n",
    "\n",
    "y_pred = clf.predict(X)"
   ]
  },
  {
   "cell_type": "code",
   "execution_count": null,
   "id": "57791c47",
   "metadata": {},
   "outputs": [],
   "source": [
    "fig = plt.figure(figsize=(25,20))\n",
    "tree.plot_tree(\n",
    "    clf,\n",
    "    feature_names=list(X),\n",
    "    class_names=card_data_2019['tip_class'].values,\n",
    "    filled=True\n",
    ")"
   ]
  },
  {
   "cell_type": "markdown",
   "id": "cff8a88f",
   "metadata": {},
   "source": [
    "### COVID előtt (2020)"
   ]
  },
  {
   "cell_type": "code",
   "execution_count": null,
   "id": "2a5c2fcc",
   "metadata": {},
   "outputs": [],
   "source": []
  },
  {
   "cell_type": "markdown",
   "id": "435c8f01",
   "metadata": {},
   "source": [
    "## Összegzés\n",
    "Az adatelemzés során megbizonyosodhattunk, hogy a New York-i sárga taxik használatára is észrevehető hatással voltak a COVID-lezárások. Azt is feljegyeztük, hogy a repterek és a belváros a részei leggyakrabban a taxiutaknak, ezeken a területeken volt a legnagyobb visszaesés is a COVID érkezésével a taxiutak számában, és mindezt vizuálisan is elemeztük. Kiszámoltuk, hogy jó becslés borravalóra a teljes költség függvényében annak 14%-a, és hogy különböző szabályszerűségek alapján adnak borravalót az utasok: a fix és a költséggel arányos két módja ezeknek."
   ]
  }
 ],
 "metadata": {
  "kernelspec": {
   "display_name": "Python 3 (ipykernel)",
   "language": "python",
   "name": "python3"
  },
  "language_info": {
   "codemirror_mode": {
    "name": "ipython",
    "version": 3
   },
   "file_extension": ".py",
   "mimetype": "text/x-python",
   "name": "python",
   "nbconvert_exporter": "python",
   "pygments_lexer": "ipython3",
   "version": "3.10.8"
  }
 },
 "nbformat": 4,
 "nbformat_minor": 5
}
