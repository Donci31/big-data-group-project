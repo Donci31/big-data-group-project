{
 "cells": [
  {
   "cell_type": "code",
   "execution_count": null,
   "metadata": {},
   "outputs": [],
   "source": [
    "import pandas as pd"
   ]
  },
  {
   "cell_type": "code",
   "execution_count": null,
   "metadata": {},
   "outputs": [],
   "source": [
    "year = 2020\n",
    "month = 12\n",
    "\n",
    "monthly_data = pd.read_parquet(f'{year}/{year}-{month:02d}.parquet')"
   ]
  },
  {
   "cell_type": "markdown",
   "metadata": {},
   "source": [
    "### Fontos oszlopok kiválasztása\n",
    "\n",
    "Az eredeti adathalmaz 19 oszlopa közül kiválasztottuk a számunkra érdekesebbeket."
   ]
  },
  {
   "cell_type": "code",
   "execution_count": null,
   "metadata": {},
   "outputs": [],
   "source": [
    "monthly_data = monthly_data[\n",
    "    ['tpep_pickup_datetime', 'tpep_dropoff_datetime', 'passenger_count', 'trip_distance', 'PULocationID',\n",
    "     'DOLocationID', 'payment_type', 'fare_amount', 'extra', 'tip_amount', 'total_amount']\n",
    "]"
   ]
  },
  {
   "cell_type": "markdown",
   "metadata": {},
   "source": [
    "### Outlierek kiszűrése\n",
    "\n",
    "Pár oszlopnál tapasztaltunk rendkívül magas/alacsony értékeket (például 2088-as dátum).\n",
    "\n",
    "Az alábbi cella az 1-99-es percentillisig tartja meg az adatokat a `filer_columns`-ban található oszlopokban, ezzel kiszűrve az extrém értékeket.\n",
    "\n",
    "A dátumoknál meghatároztuk, hogy az adott hónap időkeretében kell lennie a `tpep_pickup_datetime` és a `tpep_dropoff_datetime`-nak.\n",
    "\n",
    "Az is fontos, hogy a `tpep_pickup_datetime` ne legyen előbb mint a `tpep_dropoff_datetime`."
   ]
  },
  {
   "cell_type": "code",
   "execution_count": null,
   "metadata": {},
   "outputs": [],
   "source": [
    "filter_columns = ['passenger_count', 'trip_distance', 'fare_amount', 'extra', 'tip_amount', 'total_amount']\n",
    "percentile = .01\n",
    "\n",
    "filter_string = ' & '.join(\n",
    "    (\n",
    "        *(f'({column}.quantile({percentile}) <= {column}) & ({column} <= {column}.quantile({1 - percentile}))' for column in filter_columns),\n",
    "        f'(\"{year}, {month}, 1\" <= tpep_pickup_datetime) & (tpep_pickup_datetime <= \"{year}, {month}, 31\")',\n",
    "        f'(\"{year}, {month}, 1\" <= tpep_dropoff_datetime) & (tpep_dropoff_datetime <= \"{year}, {month}, 31\")',\n",
    "        'tpep_pickup_datetime <= tpep_dropoff_datetime'\n",
    "    )\n",
    ")\n",
    "\n",
    "monthly_data = monthly_data.query(filter_string)"
   ]
  }
 ],
 "metadata": {
  "kernelspec": {
   "display_name": "Python 3 (ipykernel)",
   "language": "python",
   "name": "python3"
  },
  "language_info": {
   "codemirror_mode": {
    "name": "ipython",
    "version": 3
   },
   "file_extension": ".py",
   "mimetype": "text/x-python",
   "name": "python",
   "nbconvert_exporter": "python",
   "pygments_lexer": "ipython3",
   "version": "3.10.8"
  },
  "vscode": {
   "interpreter": {
    "hash": "da2fa2ca90e6191f889b80ee063d924407ca5fc3535b1d7127738f96ad95b360"
   }
  }
 },
 "nbformat": 4,
 "nbformat_minor": 4
}
