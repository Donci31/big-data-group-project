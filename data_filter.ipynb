{
 "cells": [
  {
   "cell_type": "code",
   "execution_count": null,
   "metadata": {},
   "outputs": [],
   "source": [
    "import pandas as pd"
   ]
  },
  {
   "cell_type": "markdown",
   "metadata": {},
   "source": [
    "### Fontos oszlopok kiválasztása\n",
    "\n",
    "Az eredeti adathalmaz 19 oszlopa közül kiválasztottuk a számunkra érdekesebbeket."
   ]
  },
  {
   "cell_type": "code",
   "execution_count": null,
   "metadata": {},
   "outputs": [],
   "source": [
    "year = 2019\n",
    "month = 1\n",
    "\n",
    "monthly_data = pd.read_parquet(\n",
    "    path=f'{year}/{year}-{month:02d}.parquet',\n",
    "    columns=['tpep_pickup_datetime', 'tpep_dropoff_datetime', 'passenger_count', 'trip_distance', 'PULocationID',\n",
    "             'DOLocationID', 'payment_type', 'fare_amount', 'extra', 'tip_amount', 'total_amount']\n",
    ")"
   ]
  },
  {
   "cell_type": "markdown",
   "metadata": {},
   "source": [
    "### Outlierek kiszűrése\n",
    "\n",
    "Pár oszlopnál tapasztaltunk rendkívül magas/alacsony értékeket (például 2088-as dátum).\n",
    "\n",
    "Az alábbi szűrési lépéseket tettük meg:\n",
    "\n",
    "* A dátumoknál meghatároztuk, hogy az adott hónap időkeretében kell lennie a `tpep_pickup_datetime` és a `tpep_dropoff_datetime`-nak.\n",
    "    * Az is fontos, hogy a `tpep_pickup_datetime` ne legyen előbb mint a `tpep_dropoff_datetime`.\n",
    "* A `passenger_count` minimum 1 és maximum 6 lehet, mivel ezt írja elő a törvény.\n",
    "* A `trip_distance` egy pozitív szám, ami kisebb, mint New York átmérője.\n",
    "* Összesen 263 körzet van, ezért a  `PULocationID` és a `DOLocationID` minimum 1 és maximum 263 lehet.\n",
    "* A `fare_amount` minimum 2.5\\\\$.\n",
    "* Az `extra` 0\\\\$, 0.5\\\\$ vagy 1\\\\$ lehet.\n",
    "* A `tip_amount` nem lehet negatív, és a `fare_amount` nem lehet nagyobb, mint a `total_amount`.\n",
    "* Felső korlátnak, csak megadtuk, hogy a 99.99-es percentillisig szűrjön a `fare_amount`, `tip_amount` és a `total_amount` oszlopoknál."
   ]
  },
  {
   "cell_type": "code",
   "execution_count": null,
   "metadata": {},
   "outputs": [],
   "source": [
    "from calendar import monthrange\n",
    "\n",
    "filter_columns = ['fare_amount', 'tip_amount', 'total_amount']\n",
    "percentile = 0.9999\n",
    "\n",
    "filter_string = ' & '.join(\n",
    "    (\n",
    "        f'(\"{year}, {month}, 1\" <= tpep_pickup_datetime)',\n",
    "        f'(tpep_pickup_datetime <= \"{year}, {month}, {monthrange(year, month)[1]}\")',\n",
    "        f'(\"{year}, {month}, 1\" <= tpep_dropoff_datetime)',\n",
    "        f'(tpep_dropoff_datetime <= \"{year}, {month}, {monthrange(year, month)[1]}\")',\n",
    "        '(tpep_pickup_datetime <= tpep_dropoff_datetime)',\n",
    "        '(1 <= passenger_count) & (passenger_count <= 6)',\n",
    "        '(0 < trip_distance) & (trip_distance <= 330)',\n",
    "        '(1 <= PULocationID) & (PULocationID <= 263)',\n",
    "        '(1 <= DOLocationID) & (DOLocationID <= 263)',\n",
    "        '(2.5 <= fare_amount)',\n",
    "        '(extra in (0, 0.5, 1))',\n",
    "        '(0 <= tip_amount)',\n",
    "        '(fare_amount <= total_amount)',\n",
    "        *(f'({column} <= {column}.quantile({percentile}))' for column in filter_columns)\n",
    "    )\n",
    ")\n",
    "\n",
    "monthly_data = monthly_data.query(filter_string)"
   ]
  }
 ],
 "metadata": {
  "kernelspec": {
   "display_name": "Python 3 (ipykernel)",
   "language": "python",
   "name": "python3"
  },
  "language_info": {
   "codemirror_mode": {
    "name": "ipython",
    "version": 3
   },
   "file_extension": ".py",
   "mimetype": "text/x-python",
   "name": "python",
   "nbconvert_exporter": "python",
   "pygments_lexer": "ipython3",
   "version": "3.10.8"
  },
  "vscode": {
   "interpreter": {
    "hash": "da2fa2ca90e6191f889b80ee063d924407ca5fc3535b1d7127738f96ad95b360"
   }
  }
 },
 "nbformat": 4,
 "nbformat_minor": 4
}
