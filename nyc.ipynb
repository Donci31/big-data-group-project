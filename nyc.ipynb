{
 "cells": [
  {
   "cell_type": "code",
   "execution_count": 13,
   "metadata": {},
   "outputs": [],
   "source": [
    "import pandas as pd"
   ]
  },
  {
   "cell_type": "code",
   "execution_count": 14,
   "metadata": {},
   "outputs": [],
   "source": [
    "path = '2019/2019-01'\n",
    "\n",
    "january = pd.read_parquet(f'{path}.parquet')"
   ]
  },
  {
   "cell_type": "markdown",
   "metadata": {},
   "source": [
    "## Fontos oszlopok kiválasztása"
   ]
  },
  {
   "cell_type": "code",
   "execution_count": 15,
   "metadata": {},
   "outputs": [],
   "source": [
    "january = january[['tpep_pickup_datetime', 'tpep_dropoff_datetime', 'passenger_count', 'trip_distance', 'PULocationID',\n",
    "                   'DOLocationID', 'payment_type', 'fare_amount', 'extra', 'tip_amount', 'total_amount']]"
   ]
  },
  {
   "cell_type": "markdown",
   "metadata": {},
   "source": [
    "## Outlierek kiszűrése"
   ]
  },
  {
   "cell_type": "code",
   "execution_count": 16,
   "metadata": {},
   "outputs": [],
   "source": [
    "filter_columns = ['passenger_count', 'trip_distance', 'fare_amount', 'extra', 'tip_amount', 'total_amount']\n",
    "percentile = .01\n",
    "\n",
    "filter_string = ' & '.join(\n",
    "    (\n",
    "        *(f'({column}.quantile({percentile}) <= {column}) & ({column} <= {column}.quantile({1 - percentile}))' for column in filter_columns),\n",
    "        '(\"2019-01-01\" <= tpep_pickup_datetime) & (tpep_pickup_datetime <= \"2019, 1, 31\")',\n",
    "        '(\"2019-01-01\" <= tpep_dropoff_datetime) & (tpep_dropoff_datetime <= \"2019, 1, 31\")'\n",
    "    )\n",
    ")\n",
    "\n",
    "january = january.query(filter_string)"
   ]
  }
 ],
 "metadata": {
  "kernelspec": {
   "display_name": "Python 3.10.8 ('venv': venv)",
   "language": "python",
   "name": "python3"
  },
  "language_info": {
   "codemirror_mode": {
    "name": "ipython",
    "version": 3
   },
   "file_extension": ".py",
   "mimetype": "text/x-python",
   "name": "python",
   "nbconvert_exporter": "python",
   "pygments_lexer": "ipython3",
   "version": "3.10.8"
  },
  "orig_nbformat": 4,
  "vscode": {
   "interpreter": {
    "hash": "da2fa2ca90e6191f889b80ee063d924407ca5fc3535b1d7127738f96ad95b360"
   }
  }
 },
 "nbformat": 4,
 "nbformat_minor": 2
}
