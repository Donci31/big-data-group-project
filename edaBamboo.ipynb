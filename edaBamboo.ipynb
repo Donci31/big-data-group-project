{
 "cells": [
  {
   "cell_type": "code",
   "execution_count": null,
   "id": "f304d0de",
   "metadata": {},
   "outputs": [],
   "source": [
    "import pandas as pd\n",
    "import bamboolib as bam\n",
    "import datetime\n",
    "import pyarrow as pa\n",
    "import pyarrow.parquet as pq"
   ]
  },
  {
   "cell_type": "markdown",
   "id": "dc7751c7",
   "metadata": {},
   "source": [
    "Először beolvassuk a 2020-as adatokat hónaponként és egy listába tesszük őket."
   ]
  },
  {
   "cell_type": "code",
   "execution_count": null,
   "id": "6c8dee90",
   "metadata": {},
   "outputs": [],
   "source": [
    "from calendar import monthrange\n",
    "filtered2020monthlist=[]\n",
    "for i in range(1,13):\n",
    "    year = 2020\n",
    "    month=i\n",
    "\n",
    "    monthly_data = pd.read_parquet(\n",
    "    path=f'{year}/{year}-{month:02d}.parquet',\n",
    "    columns=['tpep_pickup_datetime', 'tpep_dropoff_datetime', 'passenger_count', 'trip_distance', 'PULocationID',\n",
    "             'DOLocationID', 'payment_type', 'fare_amount', 'extra', 'tip_amount', 'total_amount']\n",
    "    )\n",
    "\n",
    "    filter_columns = ['fare_amount', 'tip_amount', 'total_amount']\n",
    "    percentile = 0.9999\n",
    "\n",
    "    filter_string = ' & '.join(\n",
    "    (\n",
    "        f'(\"{year}, {month}, 1\" <= tpep_pickup_datetime)',\n",
    "        f'(tpep_pickup_datetime <= \"{year}, {month}, {monthrange(year, month)[1]}\")',\n",
    "        f'(\"{year}, {month}, 1\" <= tpep_dropoff_datetime)',\n",
    "        f'(tpep_dropoff_datetime <= \"{year}, {month}, {monthrange(year, month)[1]}\")',\n",
    "        '(tpep_pickup_datetime <= tpep_dropoff_datetime)',\n",
    "        '(1 <= passenger_count) & (passenger_count <= 6)',\n",
    "        '(0 < trip_distance) & (trip_distance <= 330)',\n",
    "        '(1 <= PULocationID) & (PULocationID <= 263)',\n",
    "        '(1 <= DOLocationID) & (DOLocationID <= 263)',\n",
    "        '(2.5 <= fare_amount)',\n",
    "        '(extra in (0, 0.5, 1, 2.5, 3, 3.5))',\n",
    "        '(0 <= tip_amount)',\n",
    "        '(fare_amount <= total_amount)',\n",
    "        *(f'({column} <= {column}.quantile({percentile}))' for column in filter_columns)\n",
    "    )\n",
    ")\n",
    "    filtered2020monthlist.append(monthly_data.sample(n=len(monthly_data)//7).query(filter_string))\n",
    "   # if len(monthly_data)>500000:\n",
    "    #    filtered2020monthlist.append(monthly_data.sample(n=500000).query(filter_string))\n",
    "   # else:\n",
    "    #    filtered2020monthlist.append(monthly_data.query(filter_string))\n",
    "    \n",
    "    #filtered2020monthlist.append(monthly_data.query(filter_string))\n",
    "    #filtered2020jul = monthly_data.query(filter_string)"
   ]
  },
  {
   "cell_type": "markdown",
   "id": "0ba8bccb",
   "metadata": {},
   "source": [
    "Beolvassuk a 2020-as adatokat a 2019-esekhez hasonlóan."
   ]
  },
  {
   "cell_type": "code",
   "execution_count": null,
   "id": "e60f6742",
   "metadata": {},
   "outputs": [],
   "source": [
    "from calendar import monthrange\n",
    "filtered2019monthlist=[]\n",
    "for i in range(1,13):\n",
    "    year = 2019\n",
    "    month=i\n",
    "\n",
    "    monthly_data = pd.read_parquet(\n",
    "    path=f'{year}/{year}-{month:02d}.parquet',\n",
    "    columns=['tpep_pickup_datetime', 'tpep_dropoff_datetime', 'passenger_count', 'trip_distance', 'PULocationID',\n",
    "             'DOLocationID', 'payment_type', 'fare_amount', 'extra', 'tip_amount', 'total_amount']\n",
    "    )\n",
    "\n",
    "    filter_columns = ['fare_amount','tip_amount', 'total_amount']\n",
    "    percentile = 0.9999\n",
    "\n",
    "    filter_string = ' & '.join(\n",
    "    (\n",
    "        f'(\"{year}, {month}, 1\" <= tpep_pickup_datetime)',\n",
    "        f'(tpep_pickup_datetime <= \"{year}, {month}, {monthrange(year, month)[1]}\")',\n",
    "        f'(\"{year}, {month}, 1\" <= tpep_dropoff_datetime)',\n",
    "        f'(tpep_dropoff_datetime <= \"{year}, {month}, {monthrange(year, month)[1]}\")',\n",
    "        '(tpep_pickup_datetime <= tpep_dropoff_datetime)',\n",
    "        '(1 <= passenger_count) & (passenger_count <= 6)',\n",
    "        '(0 < trip_distance) & (trip_distance <= 330)',\n",
    "        '(1 <= PULocationID) & (PULocationID <= 263)',\n",
    "        '(1 <= DOLocationID) & (DOLocationID <= 263)',\n",
    "        '(2.5 <= fare_amount)',\n",
    "        '(extra in (0, 0.5, 1,2.5,3,3.5))',\n",
    "        '(0 <= tip_amount)',\n",
    "        '(fare_amount <= total_amount)',\n",
    "        *(f'({column} <= {column}.quantile({percentile}))' for column in filter_columns)\n",
    "        )\n",
    "    )\n",
    "    \n",
    "    filtered2019monthlist.append(monthly_data.sample(n=len(monthly_data)//7).query(filter_string))\n",
    "   # if len(monthly_data)>500000:\n",
    "    #    filtered2019monthlist.append(monthly_data.sample(n=500000).query(filter_string))\n",
    "   # else:\n",
    "    #    filtered2019monthlist.append(monthly_data.query(filter_string))\n",
    "    \n",
    "    #filtered2019monthlist.append(monthly_data.query(filter_string))\n",
    "    #filtered2020jul = monthly_data.query(filter_string)"
   ]
  },
  {
   "cell_type": "markdown",
   "id": "cc737224",
   "metadata": {},
   "source": [
    "Összetesszük a hónapos adatokat évesekre. Nagyon sok adat van, amit a jupyter notebookban nem tudunk kezelni,\n",
    "ezért mindegyik hónapból maximum 500000 mintát veszünk. Ekkora minta még reprezentatív, de már egyszerűbb kezelni."
   ]
  },
  {
   "cell_type": "code",
   "execution_count": null,
   "id": "35fe5dfb",
   "metadata": {},
   "outputs": [],
   "source": [
    "ossz2020=pd.concat(filtered2020monthlist)\n",
    "ossz2020.to_parquet('ossz/osszsamp2020.parquet')"
   ]
  },
  {
   "cell_type": "code",
   "execution_count": null,
   "id": "d738ba02",
   "metadata": {},
   "outputs": [],
   "source": [
    "ossz2019=pd.concat(filtered2019monthlist)\n",
    "ossz2019.to_parquet('ossz/osszsamp2019.parquet')"
   ]
  },
  {
   "cell_type": "markdown",
   "id": "a7249b06",
   "metadata": {},
   "source": [
    "Összetesszük a két éves adathalmazt, hogy bamboolibbel elemezni tudjuk."
   ]
  },
  {
   "cell_type": "code",
   "execution_count": null,
   "id": "594a2be4",
   "metadata": {},
   "outputs": [],
   "source": [
    "\n",
    "osszfiltered2019=pd.read_parquet('ossz/osszsamp2019.parquet')\n",
    "osszfiltered2019['year']=\"2019\"\n",
    "osszfiltered2019['hetvege']=osszfiltered2019['tpep_pickup_datetime'].dt.weekday < 5\n",
    "osszfiltered2020=pd.read_parquet('ossz/osszsamp2020.parquet')\n",
    "osszfiltered2020['year']=\"2020\"\n",
    "osszfiltered2020['hetvege']=osszfiltered2019['tpep_pickup_datetime'].dt.weekday < 5\n",
    "osszfiltered=pd.concat([osszfiltered2019,osszfiltered2020])"
   ]
  },
  {
   "cell_type": "markdown",
   "id": "47eae5ae",
   "metadata": {},
   "source": [
    "A borravló vizsgálat szempontjából csak a kártyás fizetésre van szükségünk, mivel csak azoknál mértek borravalót."
   ]
  },
  {
   "cell_type": "code",
   "execution_count": null,
   "id": "487ce525",
   "metadata": {},
   "outputs": [],
   "source": [
    "onlycarddata=osszfiltered[osszfiltered.payment_type==1]"
   ]
  },
  {
   "cell_type": "markdown",
   "id": "c8968a52",
   "metadata": {},
   "source": []
  },
  {
   "cell_type": "markdown",
   "id": "3ee1f993",
   "metadata": {},
   "source": []
  },
  {
   "cell_type": "code",
   "execution_count": null,
   "id": "919e5e6c",
   "metadata": {
    "scrolled": false
   },
   "outputs": [],
   "source": [
    "onlycarddata"
   ]
  },
  {
   "cell_type": "code",
   "execution_count": null,
   "id": "552599df",
   "metadata": {},
   "outputs": [],
   "source": [
    "osszfiltered2019"
   ]
  },
  {
   "cell_type": "code",
   "execution_count": null,
   "id": "c9b9ddc6",
   "metadata": {},
   "outputs": [],
   "source": [
    "osszfiltered"
   ]
  },
  {
   "cell_type": "markdown",
   "id": "c6e0c9b8",
   "metadata": {},
   "source": [
    "Ezen a ploton azt vizsgáljuk meg hogy hogyan függ az utazás távolsága az extra költségektől. Extra költség típusok: 0.50 overnight charge(8pm-6am), 1 rush hour charge(4pm-8pm), New York State Congestion Surcharge(Ha manhattan 96th útja déli részét érinti az út) of 2.50. Az útóbbit nem tartalmazza az adatszolgáltatók szerint, de az adatokból úgy tűnik, hogy tartalmazza.\n",
    "\n",
    "A diagrammon az látszik hogy éjszaka hosszabb távon igényelték a taxikat mindkét évben, mint normál időpontokban. 2019-ben rush órákban rövidebb távot utaztak, mint normál, nem extra költésges időkben, még ez 2020-ben pont fordítva volt. Itt pont az ellentettjére számítottunk, mert gondoltuk, hogy 2020-ban a munkahelyüktől távolabb élők nagyobb számban dolgoztak otthonról, mint a közelebb élők. A 96th utcát érintő taxizások hossza kicsivel rövidebb mint az azt nem érintőké."
   ]
  },
  {
   "cell_type": "code",
   "execution_count": null,
   "id": "429a331a",
   "metadata": {},
   "outputs": [],
   "source": [
    "import plotly.express as px\n",
    "fig = px.box(osszfiltered.sample(n=300000, replace=False).sort_index(), x='extra', y='trip_distance', color='year')\n",
    "fig.update_yaxes(type='log', tickformat='.1e')\n",
    "fig"
   ]
  },
  {
   "cell_type": "markdown",
   "id": "c8162a17",
   "metadata": {},
   "source": [
    "Ezen a ploton a borravaló átlagos mennyiségét vizsgáljuk az extra költésgek szempontjából. Ehhez a plothoz csak a kártyával fizetők adatait használtuk, mert csak náluk jelenítették meg a borravalót.\n",
    "\n",
    "A ploton látható, hogy mind a rush órákban mind az éjszakai órákban a borravaló átlagos mennyisége nagyobb a normál órákhoz képest. A rush órákban és éjszakai órákban körülbelül ugyanannyi az átlagos borravaló. A 96th utcát érintő taxizásoknál nem volt nagy eltérés az azt nem érintőkhöz képest."
   ]
  },
  {
   "cell_type": "code",
   "execution_count": null,
   "id": "e247ae74",
   "metadata": {},
   "outputs": [],
   "source": [
    "import plotly.express as px\n",
    "fig = px.box(onlycarddata.sample(n=150000, replace=False).sort_index(), x='extra', y='tip_amount', color='year')\n",
    "fig.update_yaxes(type='log', tickformat='.1e')\n",
    "fig"
   ]
  },
  {
   "cell_type": "markdown",
   "id": "035f2b64",
   "metadata": {},
   "source": [
    "Ezen a ploton a borravalót és a út hosszát hasonlítjuk össze.Sok egy sorban levő adat van, ezek a kerek mennyiségű borravalók miatt vannak. A 0 sorban azok az adatok vannak ahol nem adtak borravalót."
   ]
  },
  {
   "cell_type": "code",
   "execution_count": null,
   "id": "d38e4a61",
   "metadata": {},
   "outputs": [],
   "source": [
    "import plotly.express as px\n",
    "fig = px.strip(onlycarddata.sample(n=20000, replace=False, random_state=123).sort_index(), x='trip_distance', y='tip_amount', color='year')\n",
    "fig"
   ]
  },
  {
   "cell_type": "raw",
   "id": "9f18a448",
   "metadata": {},
   "source": [
    "Ezen a ploton a teljes összeget vizsgáljuk az extra költségektől függően. \n",
    "Ez esetben a a rush óráknál és az éjszakai óráknál körülbelül ugyanannyi az átlagos összköltség, ezekhez képest a normál órákban kevesebb. A 96th útot érintő és nem érintő utaknál megegyeznek a megfelelő adatok, kivéve 2019-ben az átlag nagyobb az utcát érintőknél rush órákban, mint az utcát nem érintőknél. 2019-ben minden esetben magasabb volt az átlagos összköltség mint 2020-ban. \n",
    "\n",
    "Ezt le kell még csekkolni:\n",
    "Ez azért érdekes, mert elméletileg a 2.5 dolláros extraköltség is bele van számítva az összköltségbe, ennek ellenére nincs. \n"
   ]
  },
  {
   "cell_type": "code",
   "execution_count": null,
   "id": "b457763d",
   "metadata": {},
   "outputs": [],
   "source": [
    "import plotly.express as px\n",
    "fig = px.box(osszfiltered.sample(n=500000, replace=False).sort_index(), x='extra', y='total_amount', color='year')\n",
    "fig.update_yaxes(type='log', tickformat='.1e')\n",
    "fig"
   ]
  },
  {
   "cell_type": "code",
   "execution_count": null,
   "id": "321ced9d",
   "metadata": {},
   "outputs": [],
   "source": [
    "import plotly.express as px\n",
    "fig = px.box(osszfiltered.sample(n=100000, replace=False, random_state=95).sort_index(), x='extra', y='total_amount', color='year')\n",
    "fig.update_yaxes(type='log', tickformat='.1e')\n",
    "fig"
   ]
  },
  {
   "cell_type": "markdown",
   "id": "f08bbdb6",
   "metadata": {},
   "source": [
    "Ezen a ploton az átlagos fare amountot vizsgáljuk évenként. A fare amount a taxi óra által számított ár. Ebben nincsenek az extra költségek benne.\n",
    "2019-ben magasabb volt az átlagos (vitelár?) fare amount, mint 2020-ban."
   ]
  },
  {
   "cell_type": "code",
   "execution_count": null,
   "id": "e6458e7f",
   "metadata": {},
   "outputs": [],
   "source": [
    "import plotly.express as px\n",
    "fig = px.histogram(osszfiltered.sample(n=100000, replace=False).sort_index(), x='year', y='fare_amount', histfunc='avg', color_discrete_sequence=px.colors.qualitative.Dark2, color='year')\n",
    "fig"
   ]
  },
  {
   "cell_type": "markdown",
   "id": "15d2392b",
   "metadata": {},
   "source": [
    "A fare amounthoz hasonlóan a távolság is átlagosan magasabb volt 2019-ben mint 2020-ban. Ez a kettő erősen összefügg mivel a fare amount jelentős része a távolságdíjból származik"
   ]
  },
  {
   "cell_type": "code",
   "execution_count": null,
   "id": "acce165a",
   "metadata": {},
   "outputs": [],
   "source": [
    "import plotly.express as px\n",
    "fig = px.histogram(osszfiltered.sample(n=100000, replace=False).sort_index(), x='year', y='trip_distance', histfunc='avg', color_discrete_sequence=px.colors.qualitative.Dark2, color='year')\n",
    "fig"
   ]
  },
  {
   "cell_type": "markdown",
   "id": "16996015",
   "metadata": {},
   "source": [
    "Itt a idő során az utazás hosszát jelenítjük meg"
   ]
  },
  {
   "cell_type": "code",
   "execution_count": null,
   "id": "24d6d64e",
   "metadata": {},
   "outputs": [],
   "source": [
    "import plotly.express as px\n",
    "fig = px.histogram(osszfiltered.sample(n=400000, replace=False).sort_index(), x='tpep_pickup_datetime', y='trip_distance', histfunc='sum', nbins=200)\n",
    "fig"
   ]
  },
  {
   "cell_type": "markdown",
   "id": "5b9d428d",
   "metadata": {},
   "source": []
  },
  {
   "cell_type": "code",
   "execution_count": null,
   "id": "3383f698",
   "metadata": {},
   "outputs": [],
   "source": [
    "import plotly.express as px\n",
    "fig = px.histogram(osszfiltered.sample(n=400000, replace=False).sort_index(), x='tpep_pickup_datetime', y='total_amount', histfunc='sum', nbins=120)\n",
    "fig"
   ]
  },
  {
   "cell_type": "code",
   "execution_count": null,
   "id": "b2e573ab",
   "metadata": {},
   "outputs": [],
   "source": [
    "import plotly.express as px\n",
    "fig = px.histogram([osszfiltered2019.sample(n=100000, replace=False).sort_index(),osszfiltered2020.sample(n=100000, replace=False).sort_index()], x='hetvege', y='total_amount', histfunc='avg')\n",
    "fig"
   ]
  }
 ],
 "metadata": {
  "kernelspec": {
   "display_name": "Python 3 (ipykernel)",
   "language": "python",
   "name": "python3"
  },
  "language_info": {
   "codemirror_mode": {
    "name": "ipython",
    "version": 3
   },
   "file_extension": ".py",
   "mimetype": "text/x-python",
   "name": "python",
   "nbconvert_exporter": "python",
   "pygments_lexer": "ipython3",
   "version": "3.9.13"
  }
 },
 "nbformat": 4,
 "nbformat_minor": 5
}
