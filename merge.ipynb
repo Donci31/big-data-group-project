{
 "cells": [
  {
   "cell_type": "code",
   "execution_count": null,
   "id": "9cdeaf40-ed87-40a3-9301-689f3d6cc090",
   "metadata": {},
   "outputs": [],
   "source": [
    "import pandas as pd\n",
    "from calendar import monthrange\n",
    "\n",
    "dataframe_list = []\n",
    "\n",
    "for month in range(1, 13):\n",
    "    year = 2019\n",
    "\n",
    "    monthly_data = pd.read_parquet(f'{year}/{year}-{month:02d}.parquet')\n",
    "\n",
    "    monthly_data = monthly_data[\n",
    "        ['tpep_pickup_datetime', 'tpep_dropoff_datetime', 'passenger_count', 'trip_distance', 'PULocationID',\n",
    "         'DOLocationID', 'payment_type', 'fare_amount', 'extra', 'tip_amount', 'total_amount']\n",
    "    ]\n",
    "\n",
    "    filter_columns = ['passenger_count', 'trip_distance', 'fare_amount', 'extra', 'tip_amount', 'total_amount']\n",
    "    percentile = .01\n",
    "\n",
    "    filter_string = ' & '.join(\n",
    "        (\n",
    "            *(f'({column}.quantile({percentile}) <= {column}) & ({column} <= {column}.quantile({1 - percentile}))' for column in filter_columns),\n",
    "            f'(\"{year}, {month}, 1\" <= tpep_pickup_datetime) & (tpep_pickup_datetime <= \"{year}, {month}, {monthrange(year, month)[1]}\")',\n",
    "            f'(\"{year}, {month}, 1\" <= tpep_dropoff_datetime) & (tpep_dropoff_datetime <= \"{year}, {month}, {monthrange(year, month)[1]}\")',\n",
    "            'tpep_pickup_datetime <= tpep_dropoff_datetime'\n",
    "        )\n",
    "    )\n",
    "\n",
    "    monthly_data = monthly_data.query(filter_string)\n",
    "    \n",
    "    dataframe_list.append(monthly_data)\n",
    "\n",
    "yearly_data = pd.concat(dataframe_list)\n",
    "\n",
    "yearly_data.to_parquet(f'{year}/{year}.parquet')"
   ]
  }
 ],
 "metadata": {
  "kernelspec": {
   "display_name": "Python 3 (ipykernel)",
   "language": "python",
   "name": "python3"
  },
  "language_info": {
   "codemirror_mode": {
    "name": "ipython",
    "version": 3
   },
   "file_extension": ".py",
   "mimetype": "text/x-python",
   "name": "python",
   "nbconvert_exporter": "python",
   "pygments_lexer": "ipython3",
   "version": "3.10.8"
  }
 },
 "nbformat": 4,
 "nbformat_minor": 5
}
